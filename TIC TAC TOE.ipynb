{
 "cells": [
  {
   "cell_type": "code",
   "execution_count": 1,
   "id": "cc56fc81",
   "metadata": {},
   "outputs": [],
   "source": [
    "from os import system,name\n",
    "def clear():\n",
    "    if name=='nt':\n",
    "        _=system('cls')"
   ]
  },
  {
   "cell_type": "code",
   "execution_count": 2,
   "id": "ddb43853",
   "metadata": {},
   "outputs": [],
   "source": [
    "def game_play_start():\n",
    "    print(\"Welcome To The Land Of X's & O's!!\")"
   ]
  },
  {
   "cell_type": "code",
   "execution_count": 3,
   "id": "9d96a575",
   "metadata": {},
   "outputs": [],
   "source": [
    "def player_icon():\n",
    "    pone=''\n",
    "    while pone!='X' and pone!='O':\n",
    "        one=input('PLAYER 1, CHOOSE YOUR ICON: X OR O?')\n",
    "        pone=one.upper()\n",
    "        if pone!='X' and pone!='O':\n",
    "            print('INVALID CHOICE!!PLEASE CHOOSE X or O')\n",
    "        elif pone=='X':\n",
    "            ptwo='O'\n",
    "        else:\n",
    "            ptwo='X'\n",
    "    return(pone,ptwo)"
   ]
  },
  {
   "cell_type": "code",
   "execution_count": 4,
   "id": "2b895ec7",
   "metadata": {},
   "outputs": [],
   "source": [
    "def player_turns(p1,p2):\n",
    "    if p1==True and p2==False:\n",
    "        print(\".....Player 1's Turn.....\")\n",
    "    elif p1==False and p2==True:\n",
    "        print(\".....Player 2's Turn.....\")\n",
    "    else:\n",
    "        print('WRONG INPUT!')\n"
   ]
  },
  {
   "cell_type": "code",
   "execution_count": 5,
   "id": "43317349",
   "metadata": {},
   "outputs": [],
   "source": [
    "\n",
    "board=[0,1,2,3,4,5,6,7,8,9]\n",
    "def gameboard(board):\n",
    "    clear()\n",
    "    print(f\"{board[1]} | {board[2]} | {board[3]}\")\n",
    "    print('=========')\n",
    "    print(f\"{board[4]} | {board[5]} | {board[6]}\")\n",
    "    print('=========')\n",
    "    print(f\"{board[7]} | {board[8]} | {board[9]}\")\n",
    "    print(\"               \")"
   ]
  },
  {
   "cell_type": "code",
   "execution_count": 6,
   "id": "81c1a2c7",
   "metadata": {},
   "outputs": [],
   "source": [
    "def box_choice(board):\n",
    "    boxchoice=0\n",
    "    while boxchoice ==0  :\n",
    "        strboxchoice=input('Choose A Box From 1-9:')\n",
    "        if strboxchoice.isdigit()==False :\n",
    "            print('Invalid Entry, Try Again!')\n",
    "        \n",
    "        elif int(strboxchoice) not in board or int(strboxchoice)==0:\n",
    "            print('Box Number Out Of Range')\n",
    "        else:\n",
    "            boxchoice=int(strboxchoice)\n",
    "    return boxchoice\n",
    "   \n"
   ]
  },
  {
   "cell_type": "code",
   "execution_count": 7,
   "id": "bab87a16",
   "metadata": {
    "scrolled": true
   },
   "outputs": [],
   "source": [
    "def icon_replace(board,choice):\n",
    "    if p1==True:\n",
    "        board[choice]=pone\n",
    "    elif p2==True:\n",
    "        board[choice]=ptwo\n",
    "    return board"
   ]
  },
  {
   "cell_type": "code",
   "execution_count": 8,
   "id": "f9df868e",
   "metadata": {},
   "outputs": [],
   "source": [
    "def win_game(board):\n",
    "    if (board[1::4]==[pone]*3) or (board[3:9:2]==[pone]*3) or (board[1:4]==[pone]*3) or (board[7:10]==[pone]*3) or (board[1::3]==[pone]*3) or (board[3::3]==[pone]*3) or (board[2::3]==[pone]*3) or (board[4:7]==[pone]*3):\n",
    "        print('         ')\n",
    "        print (f'PLAYER ONE WINS!! {pone} BEATS {ptwo}!')\n",
    "        return True\n",
    "    elif (board[1::4]==[ptwo]*3) or (board[3:9:2]==[ptwo]*3) or (board[1:4]==[ptwo]*3) or (board[7:10]==[ptwo]*3) or (board[1::3]==[ptwo]*3) or (board[3::3]==[ptwo]*3) or (board[2::3]==[ptwo]*3) or (board[4:7]==[ptwo]*3):\n",
    "        print('         ')\n",
    "        print (f'PLAYER TWO WINS!! {ptwo} BEATS {pone}!')\n",
    "        return True"
   ]
  },
  {
   "cell_type": "code",
   "execution_count": 9,
   "id": "b46039a3",
   "metadata": {},
   "outputs": [],
   "source": [
    "def restart():\n",
    "    restart=['B','F']\n",
    "    answer='' \n",
    "    while answer not in restart:\n",
    "            print('         ') \n",
    "            answer1=input(f'PRESS {restart[0]} TO BATTLE! PRESS {restart[1]} TO FLEE!')\n",
    "            answer=answer1.upper()\n",
    "            if answer==restart[0]:\n",
    "                return True\n",
    "            elif answer==restart[1]:\n",
    "                print('         ')\n",
    "                print('X O!!SEE YOU IN THE NEXT WAR!!O X')\n",
    "            else:\n",
    "                print('         ')\n",
    "                print(\"\\nLET'S TRY THAT AGAIN\")"
   ]
  },
  {
   "cell_type": "code",
   "execution_count": 10,
   "id": "9e5a2e39",
   "metadata": {},
   "outputs": [
    {
     "name": "stdout",
     "output_type": "stream",
     "text": [
      "Welcome To The Land Of X's & O's!!\n",
      "         \n",
      "PRESS B TO BATTLE! PRESS F TO FLEE!b\n",
      "PLAYER 1, CHOOSE YOUR ICON: X OR O?o\n",
      "1 | 2 | 3\n",
      "=========\n",
      "4 | 5 | 6\n",
      "=========\n",
      "7 | 8 | 9\n",
      "               \n",
      ".....Player 1's Turn.....\n",
      "Choose A Box From 1-9:1\n",
      "O | 2 | 3\n",
      "=========\n",
      "4 | 5 | 6\n",
      "=========\n",
      "7 | 8 | 9\n",
      "               \n",
      ".....Player 2's Turn.....\n",
      "Choose A Box From 1-9:2\n",
      "O | X | 3\n",
      "=========\n",
      "4 | 5 | 6\n",
      "=========\n",
      "7 | 8 | 9\n",
      "               \n",
      ".....Player 1's Turn.....\n",
      "Choose A Box From 1-9:3\n",
      "O | X | O\n",
      "=========\n",
      "4 | 5 | 6\n",
      "=========\n",
      "7 | 8 | 9\n",
      "               \n",
      ".....Player 2's Turn.....\n",
      "Choose A Box From 1-9:4\n",
      "O | X | O\n",
      "=========\n",
      "X | 5 | 6\n",
      "=========\n",
      "7 | 8 | 9\n",
      "               \n",
      ".....Player 1's Turn.....\n",
      "Choose A Box From 1-9:5\n",
      "O | X | O\n",
      "=========\n",
      "X | O | 6\n",
      "=========\n",
      "7 | 8 | 9\n",
      "               \n",
      ".....Player 2's Turn.....\n",
      "Choose A Box From 1-9:6\n",
      "O | X | O\n",
      "=========\n",
      "X | O | X\n",
      "=========\n",
      "7 | 8 | 9\n",
      "               \n",
      ".....Player 1's Turn.....\n",
      "Choose A Box From 1-9:7\n",
      "O | X | O\n",
      "=========\n",
      "X | O | X\n",
      "=========\n",
      "O | 8 | 9\n",
      "               \n",
      "         \n",
      "PLAYER ONE WINS!! O BEATS X!\n",
      "         \n",
      "PLAYER ONE WINS!! O BEATS X!\n",
      "         \n",
      "PRESS B TO BATTLE! PRESS F TO FLEE!f\n",
      "         \n",
      "X O!!SEE YOU IN THE NEXT WAR!!O X\n"
     ]
    }
   ],
   "source": [
    "#GAME LOGIC\n",
    "start=game_play_start()\n",
    "while restart()==True:\n",
    "    board=[0,1,2,3,4,5,6,7,8,9]\n",
    "    pone,ptwo=player_icon()\n",
    "    while win_game(board)!=True:\n",
    "        gameboard(board)\n",
    "        p1= True\n",
    "        p2= False\n",
    "        player_turns(p1,p2)\n",
    "        clear()\n",
    "        choice=box_choice(board)\n",
    "        board=icon_replace(board,choice)\n",
    "        gameboard(board)\n",
    "        win_game(board)\n",
    "        if win_game(board)==True:\n",
    "            break\n",
    "        p1= False\n",
    "        p2= True\n",
    "        player_turns(p1,p2)\n",
    "        choice=box_choice(board)\n",
    "        board=icon_replace(board,choice)\n",
    "        win_game(board)\n",
    "        if win_game(board)==True:\n",
    "            break\n"
   ]
  }
 ],
 "metadata": {
  "kernelspec": {
   "display_name": "Python 3 (ipykernel)",
   "language": "python",
   "name": "python3"
  },
  "language_info": {
   "codemirror_mode": {
    "name": "ipython",
    "version": 3
   },
   "file_extension": ".py",
   "mimetype": "text/x-python",
   "name": "python",
   "nbconvert_exporter": "python",
   "pygments_lexer": "ipython3",
   "version": "3.9.12"
  }
 },
 "nbformat": 4,
 "nbformat_minor": 5
}
